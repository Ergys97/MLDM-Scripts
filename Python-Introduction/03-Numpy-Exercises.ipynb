{
  "cells": [
    {
      "cell_type": "markdown",
      "metadata": {
        "id": "view-in-github",
        "colab_type": "text"
      },
      "source": [
        "<a href=\"https://colab.research.google.com/github/Ergys97/MLDM-Scripts/blob/main/Python-Introduction/03-Numpy-Exercises.ipynb\" target=\"_parent\"><img src=\"https://colab.research.google.com/assets/colab-badge.svg\" alt=\"Open In Colab\"/></a>"
      ]
    },
    {
      "cell_type": "markdown",
      "metadata": {
        "id": "vEAZg_j6xcuS"
      },
      "source": [
        "# Numpy Practice - Hints - Unibs 2021"
      ],
      "id": "vEAZg_j6xcuS"
    },
    {
      "cell_type": "markdown",
      "metadata": {
        "id": "UzgaXoUKxcuT"
      },
      "source": [
        "#### Import the numpy package under the name `np` and print version and configuration (base)\n",
        "`hint: import … as, np.__version__, np.show_config`"
      ],
      "id": "UzgaXoUKxcuT"
    },
    {
      "cell_type": "code",
      "execution_count": 1,
      "metadata": {
        "id": "Qfb-_ry8xcuT"
      },
      "outputs": [],
      "source": [
        "import numpy as np"
      ],
      "id": "Qfb-_ry8xcuT"
    },
    {
      "cell_type": "markdown",
      "metadata": {
        "id": "jA7WAxn1xcuU"
      },
      "source": [
        "## Base Practice"
      ],
      "id": "jA7WAxn1xcuU"
    },
    {
      "cell_type": "markdown",
      "metadata": {
        "id": "o61AWvHRxcuU"
      },
      "source": [
        "#### 1. Create a null vector of size 10 but the fifth value which is 1 (base)\n",
        "`hint: array[4]`"
      ],
      "id": "o61AWvHRxcuU"
    },
    {
      "cell_type": "code",
      "execution_count": null,
      "metadata": {
        "id": "poDgG8OSxcuU"
      },
      "outputs": [],
      "source": [],
      "id": "poDgG8OSxcuU"
    },
    {
      "cell_type": "markdown",
      "metadata": {
        "id": "05OK8ccZxcuU"
      },
      "source": [
        "#### 2. Create a 3x3 matrix with values ranging from 0 to 8 with zeros on the diagonal (base)\n",
        "`hint: np.arange, reshape, np.eye`"
      ],
      "id": "05OK8ccZxcuU"
    },
    {
      "cell_type": "code",
      "execution_count": null,
      "metadata": {
        "id": "Jtv22CA6xcuU"
      },
      "outputs": [],
      "source": [],
      "id": "Jtv22CA6xcuU"
    },
    {
      "cell_type": "markdown",
      "metadata": {
        "id": "PhSuCn-xxcuV"
      },
      "source": [
        "#### 3. How to add a border (filled with 0's) around an 5x5 matrix of ones? (base)\n",
        "`hint: np.ones, np.pad`"
      ],
      "id": "PhSuCn-xxcuV"
    },
    {
      "cell_type": "code",
      "execution_count": null,
      "metadata": {
        "id": "WKpXVCzsxcuV"
      },
      "outputs": [],
      "source": [],
      "id": "WKpXVCzsxcuV"
    },
    {
      "cell_type": "markdown",
      "metadata": {
        "id": "l2MJOJm9xcuV"
      },
      "source": [
        "#### 4. Normalize a 5x5 random matrix (base)\n",
        "`hint: (x - mean) / std, np.mean, np.std`"
      ],
      "id": "l2MJOJm9xcuV"
    },
    {
      "cell_type": "code",
      "execution_count": null,
      "metadata": {
        "id": "XfoiWP8RxcuV"
      },
      "outputs": [],
      "source": [],
      "id": "XfoiWP8RxcuV"
    },
    {
      "cell_type": "markdown",
      "metadata": {
        "id": "KG5FJ81yxcuV"
      },
      "source": [
        "#### 5. Multiply a 5x3 matrix of ones by a 3x2 matrix of ones (real matrix product) (base)\n",
        "`hint: np.dot`"
      ],
      "id": "KG5FJ81yxcuV"
    },
    {
      "cell_type": "code",
      "execution_count": null,
      "metadata": {
        "id": "2pBoD8iKxcuV"
      },
      "outputs": [],
      "source": [],
      "id": "2pBoD8iKxcuV"
    },
    {
      "cell_type": "markdown",
      "metadata": {
        "id": "iyztXCtaxcuV"
      },
      "source": [
        "## Intermediate Practice"
      ],
      "id": "iyztXCtaxcuV"
    },
    {
      "cell_type": "markdown",
      "metadata": {
        "id": "QQIFB4hsxcuV"
      },
      "source": [
        "#### 6. Create a vector of size 10 with values ranging from 0 to 1, both excluded (intermediate)\n",
        "`hint: np.linspace`"
      ],
      "id": "QQIFB4hsxcuV"
    },
    {
      "cell_type": "code",
      "execution_count": null,
      "metadata": {
        "id": "47a2Zk7JxcuW"
      },
      "outputs": [],
      "source": [],
      "id": "47a2Zk7JxcuW"
    },
    {
      "cell_type": "markdown",
      "metadata": {
        "id": "NUbLZVbwxcuW"
      },
      "source": [
        "#### 7. Create a random vector of size 10 with values in range (-3, 12) and sort it (intermediate)\n",
        "`hint: sort`"
      ],
      "id": "NUbLZVbwxcuW"
    },
    {
      "cell_type": "code",
      "execution_count": null,
      "metadata": {
        "id": "2McI6FPPxcuW"
      },
      "outputs": [],
      "source": [],
      "id": "2McI6FPPxcuW"
    },
    {
      "cell_type": "markdown",
      "metadata": {
        "id": "cHTYHJ53xcuW"
      },
      "source": [
        "#### 8. Create random vector of size 10 and replace the maximum value by its additive inverse and the minimum value (of the original array) with the median value (intermediate)\n",
        "`hint: argmax, argmin`"
      ],
      "id": "cHTYHJ53xcuW"
    },
    {
      "cell_type": "code",
      "execution_count": null,
      "metadata": {
        "id": "wR356yeKxcuW"
      },
      "outputs": [],
      "source": [],
      "id": "wR356yeKxcuW"
    },
    {
      "cell_type": "markdown",
      "metadata": {
        "id": "CI14xIFJxcuW"
      },
      "source": [
        "#### 9. Randomly replace p elements in a 2D nxn zero matrix to 1 (intermediate)\n",
        "`hint: np.put, np.random.choice`"
      ],
      "id": "CI14xIFJxcuW"
    },
    {
      "cell_type": "code",
      "execution_count": null,
      "metadata": {
        "id": "BljPcdqPxcuW"
      },
      "outputs": [],
      "source": [],
      "id": "BljPcdqPxcuW"
    },
    {
      "cell_type": "markdown",
      "metadata": {
        "id": "pzDCcxROxcuW"
      },
      "source": [
        "#### 10. Subtract the mean of each row of a random 5x10 matrix (intermediate)\n",
        "`hint: mean(axis=,keepdims=)`"
      ],
      "id": "pzDCcxROxcuW"
    },
    {
      "cell_type": "code",
      "execution_count": null,
      "metadata": {
        "id": "20qUKTS0xcuW"
      },
      "outputs": [],
      "source": [],
      "id": "20qUKTS0xcuW"
    }
  ],
  "metadata": {
    "kernelspec": {
      "display_name": "Python 3",
      "language": "python",
      "name": "python3"
    },
    "language_info": {
      "codemirror_mode": {
        "name": "ipython",
        "version": 3
      },
      "file_extension": ".py",
      "mimetype": "text/x-python",
      "name": "python",
      "nbconvert_exporter": "python",
      "pygments_lexer": "ipython3",
      "version": "3.6.9"
    },
    "toc-autonumbering": false,
    "colab": {
      "provenance": [],
      "include_colab_link": true
    }
  },
  "nbformat": 4,
  "nbformat_minor": 5
}