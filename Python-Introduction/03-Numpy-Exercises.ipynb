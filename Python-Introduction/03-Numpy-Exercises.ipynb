{
  "cells": [
    {
      "cell_type": "markdown",
      "metadata": {
        "id": "view-in-github",
        "colab_type": "text"
      },
      "source": [
        "<a href=\"https://colab.research.google.com/github/Ergys97/MLDM-Scripts/blob/main/Python-Introduction/03-Numpy-Exercises.ipynb\" target=\"_parent\"><img src=\"https://colab.research.google.com/assets/colab-badge.svg\" alt=\"Open In Colab\"/></a>"
      ]
    },
    {
      "cell_type": "markdown",
      "metadata": {
        "id": "vEAZg_j6xcuS"
      },
      "source": [
        "# Numpy Practice - Hints - Unibs 2021"
      ],
      "id": "vEAZg_j6xcuS"
    },
    {
      "cell_type": "markdown",
      "metadata": {
        "id": "UzgaXoUKxcuT"
      },
      "source": [
        "#### Import the numpy package under the name `np` and print version and configuration (base)\n",
        "`hint: import … as, np.__version__, np.show_config`"
      ],
      "id": "UzgaXoUKxcuT"
    },
    {
      "cell_type": "code",
      "execution_count": 1,
      "metadata": {
        "id": "Qfb-_ry8xcuT"
      },
      "outputs": [],
      "source": [
        "import numpy as np"
      ],
      "id": "Qfb-_ry8xcuT"
    },
    {
      "cell_type": "markdown",
      "metadata": {
        "id": "jA7WAxn1xcuU"
      },
      "source": [
        "## Base Practice"
      ],
      "id": "jA7WAxn1xcuU"
    },
    {
      "cell_type": "markdown",
      "metadata": {
        "id": "o61AWvHRxcuU"
      },
      "source": [
        "#### 1. Create a null vector of size 10 but the fifth value which is 1 (base)\n",
        "`hint: array[4]`"
      ],
      "id": "o61AWvHRxcuU"
    },
    {
      "cell_type": "code",
      "execution_count": 2,
      "metadata": {
        "colab": {
          "base_uri": "https://localhost:8080/"
        },
        "id": "poDgG8OSxcuU",
        "outputId": "7fc734a8-6f44-4836-e510-6ffad82461d4"
      },
      "outputs": [
        {
          "output_type": "stream",
          "name": "stdout",
          "text": [
            "[0. 0. 0. 0. 1. 0. 0. 0. 0. 0.]\n"
          ]
        }
      ],
      "source": [
        "vector = np.zeros(10)\n",
        "vector[4] = 1\n",
        "print(vector)"
      ],
      "id": "poDgG8OSxcuU"
    },
    {
      "cell_type": "markdown",
      "metadata": {
        "id": "05OK8ccZxcuU"
      },
      "source": [
        "#### 2. Create a 3x3 matrix with values ranging from 0 to 8 with zeros on the diagonal (base)\n",
        "`hint: np.arange, reshape, np.eye`"
      ],
      "id": "05OK8ccZxcuU"
    },
    {
      "cell_type": "code",
      "execution_count": 3,
      "metadata": {
        "colab": {
          "base_uri": "https://localhost:8080/"
        },
        "id": "Jtv22CA6xcuU",
        "outputId": "9471c93a-6749-4709-e5e7-ffe1f2fcc0ce"
      },
      "outputs": [
        {
          "output_type": "stream",
          "name": "stdout",
          "text": [
            "[[0 1 2]\n",
            " [3 0 5]\n",
            " [6 7 0]]\n"
          ]
        }
      ],
      "source": [
        "matrix = np.arange(9).reshape(3, 3)\n",
        "np.fill_diagonal(matrix, 0)\n",
        "print(matrix)"
      ],
      "id": "Jtv22CA6xcuU"
    },
    {
      "cell_type": "markdown",
      "metadata": {
        "id": "PhSuCn-xxcuV"
      },
      "source": [
        "#### 3. How to add a border (filled with 0's) around an 5x5 matrix of ones? (base)\n",
        "`hint: np.ones, np.pad`"
      ],
      "id": "PhSuCn-xxcuV"
    },
    {
      "cell_type": "code",
      "execution_count": 4,
      "metadata": {
        "colab": {
          "base_uri": "https://localhost:8080/"
        },
        "id": "WKpXVCzsxcuV",
        "outputId": "0762d1dd-6e7e-4998-c4dd-a80a15a3ba4a"
      },
      "outputs": [
        {
          "output_type": "stream",
          "name": "stdout",
          "text": [
            "[[0. 0. 0. 0. 0. 0. 0.]\n",
            " [0. 1. 1. 1. 1. 1. 0.]\n",
            " [0. 1. 1. 1. 1. 1. 0.]\n",
            " [0. 1. 1. 1. 1. 1. 0.]\n",
            " [0. 1. 1. 1. 1. 1. 0.]\n",
            " [0. 1. 1. 1. 1. 1. 0.]\n",
            " [0. 0. 0. 0. 0. 0. 0.]]\n"
          ]
        }
      ],
      "source": [
        "matrix = np.ones((5, 5))\n",
        "bordered_matrix = np.pad(matrix, pad_width=1, mode='constant', constant_values=0)\n",
        "print(bordered_matrix)"
      ],
      "id": "WKpXVCzsxcuV"
    },
    {
      "cell_type": "markdown",
      "metadata": {
        "id": "l2MJOJm9xcuV"
      },
      "source": [
        "#### 4. Normalize a 5x5 random matrix (base)\n",
        "`hint: (x - mean) / std, np.mean, np.std`"
      ],
      "id": "l2MJOJm9xcuV"
    },
    {
      "cell_type": "code",
      "execution_count": 5,
      "metadata": {
        "colab": {
          "base_uri": "https://localhost:8080/"
        },
        "id": "XfoiWP8RxcuV",
        "outputId": "b6df22ce-35bd-473d-ed4c-91999bc797c6"
      },
      "outputs": [
        {
          "output_type": "stream",
          "name": "stdout",
          "text": [
            "[[-1.25489521  0.02451912 -0.8642186   0.57275323  0.13639296]\n",
            " [-1.07334546 -1.34998348 -0.08917158  1.22960701 -0.35072692]\n",
            " [-1.61585629  0.42088387  0.89898887  0.84243866 -1.0104246 ]\n",
            " [ 1.50715473  1.58556932 -0.06850177 -0.26928323 -1.3142886 ]\n",
            " [ 0.36376961  1.33598569  0.34502446 -1.37239613  1.37000435]]\n"
          ]
        }
      ],
      "source": [
        "matrix = np.random.random((5, 5))\n",
        "mean = np.mean(matrix)\n",
        "std = np.std(matrix)\n",
        "normalized_matrix = (matrix - mean) / std\n",
        "print(normalized_matrix)"
      ],
      "id": "XfoiWP8RxcuV"
    },
    {
      "cell_type": "markdown",
      "metadata": {
        "id": "KG5FJ81yxcuV"
      },
      "source": [
        "#### 5. Multiply a 5x3 matrix of ones by a 3x2 matrix of ones (real matrix product) (base)\n",
        "`hint: np.dot`"
      ],
      "id": "KG5FJ81yxcuV"
    },
    {
      "cell_type": "code",
      "execution_count": 6,
      "metadata": {
        "colab": {
          "base_uri": "https://localhost:8080/"
        },
        "id": "2pBoD8iKxcuV",
        "outputId": "827ee82e-fe9e-479c-ebba-7ab004a6cc59"
      },
      "outputs": [
        {
          "output_type": "stream",
          "name": "stdout",
          "text": [
            "[[3. 3.]\n",
            " [3. 3.]\n",
            " [3. 3.]\n",
            " [3. 3.]\n",
            " [3. 3.]]\n"
          ]
        }
      ],
      "source": [
        "matrix1 = np.ones((5, 3))\n",
        "matrix2 = np.ones((3, 2))\n",
        "product = np.dot(matrix1, matrix2)\n",
        "print(product)"
      ],
      "id": "2pBoD8iKxcuV"
    },
    {
      "cell_type": "markdown",
      "metadata": {
        "id": "iyztXCtaxcuV"
      },
      "source": [
        "## Intermediate Practice"
      ],
      "id": "iyztXCtaxcuV"
    },
    {
      "cell_type": "markdown",
      "metadata": {
        "id": "QQIFB4hsxcuV"
      },
      "source": [
        "#### 6. Create a vector of size 10 with values ranging from 0 to 1, both excluded (intermediate)\n",
        "`hint: np.linspace`"
      ],
      "id": "QQIFB4hsxcuV"
    },
    {
      "cell_type": "code",
      "execution_count": 7,
      "metadata": {
        "colab": {
          "base_uri": "https://localhost:8080/"
        },
        "id": "47a2Zk7JxcuW",
        "outputId": "e812b25f-de6e-4b9c-d67f-941753be4396"
      },
      "outputs": [
        {
          "output_type": "stream",
          "name": "stdout",
          "text": [
            "[0.09090909 0.18181818 0.27272727 0.36363636 0.45454545 0.54545455\n",
            " 0.63636364 0.72727273 0.81818182 0.90909091]\n"
          ]
        }
      ],
      "source": [
        "vector = np.linspace(0, 1, 12)[1:-1]\n",
        "print(vector)"
      ],
      "id": "47a2Zk7JxcuW"
    },
    {
      "cell_type": "markdown",
      "metadata": {
        "id": "NUbLZVbwxcuW"
      },
      "source": [
        "#### 7. Create a random vector of size 10 with values in range (-3, 12) and sort it (intermediate)\n",
        "`hint: sort`"
      ],
      "id": "NUbLZVbwxcuW"
    },
    {
      "cell_type": "code",
      "execution_count": 8,
      "metadata": {
        "colab": {
          "base_uri": "https://localhost:8080/"
        },
        "id": "2McI6FPPxcuW",
        "outputId": "1911771f-d2b8-449f-d25b-acbcce5d7a09"
      },
      "outputs": [
        {
          "output_type": "stream",
          "name": "stdout",
          "text": [
            "[-0.19469875  0.29519243  0.5018604   0.81588619  7.78930344  7.84527001\n",
            "  7.87937504  8.33373283 10.02109368 11.67331296]\n"
          ]
        }
      ],
      "source": [
        "vector = np.random.uniform(-3, 12, 10)\n",
        "sorted_vector = np.sort(vector)\n",
        "print(sorted_vector)"
      ],
      "id": "2McI6FPPxcuW"
    },
    {
      "cell_type": "markdown",
      "metadata": {
        "id": "cHTYHJ53xcuW"
      },
      "source": [
        "#### 8. Create random vector of size 10 and replace the maximum value by its additive inverse and the minimum value (of the original array) with the median value (intermediate)\n",
        "`hint: argmax, argmin`"
      ],
      "id": "cHTYHJ53xcuW"
    },
    {
      "cell_type": "code",
      "execution_count": 9,
      "metadata": {
        "colab": {
          "base_uri": "https://localhost:8080/"
        },
        "id": "wR356yeKxcuW",
        "outputId": "b4d64dc4-3129-427d-8b98-2ca3413d66a3"
      },
      "outputs": [
        {
          "output_type": "stream",
          "name": "stdout",
          "text": [
            "[0.30518394 0.88416209 0.38801188 0.37223251 0.06971818 0.47434229\n",
            " 0.71308777 0.29379512 0.40379125 0.15309246]\n"
          ]
        }
      ],
      "source": [
        "vector = np.random.random(10)\n",
        "max_val = np.max(vector)\n",
        "min_val = np.min(vector)\n",
        "median_val = np.median(vector)\n",
        "vector[np.argmax(vector)] = -max_val\n",
        "vector[np.argmin(vector)] = median_val\n",
        "print(vector)"
      ],
      "id": "wR356yeKxcuW"
    },
    {
      "cell_type": "markdown",
      "metadata": {
        "id": "CI14xIFJxcuW"
      },
      "source": [
        "#### 9. Randomly replace p elements in a 2D nxn zero matrix to 1 (intermediate)\n",
        "`hint: np.put, np.random.choice`"
      ],
      "id": "CI14xIFJxcuW"
    },
    {
      "cell_type": "code",
      "execution_count": 10,
      "metadata": {
        "colab": {
          "base_uri": "https://localhost:8080/"
        },
        "id": "BljPcdqPxcuW",
        "outputId": "b09427e4-294a-45e2-e7b0-1a1bf3d97fb9"
      },
      "outputs": [
        {
          "output_type": "stream",
          "name": "stdout",
          "text": [
            "[[0. 0. 0. 1. 0.]\n",
            " [0. 0. 0. 1. 0.]\n",
            " [0. 0. 0. 1. 0.]\n",
            " [0. 1. 0. 0. 0.]\n",
            " [0. 1. 0. 0. 0.]]\n"
          ]
        }
      ],
      "source": [
        "n = 5\n",
        "p = 5\n",
        "\n",
        "matrix = np.zeros((n, n))\n",
        "indices = np.random.choice(np.arange(n*n), p, replace=False)\n",
        "matrix[np.unravel_index(indices, (n, n))] = 1\n",
        "print(matrix)"
      ],
      "id": "BljPcdqPxcuW"
    },
    {
      "cell_type": "markdown",
      "metadata": {
        "id": "pzDCcxROxcuW"
      },
      "source": [
        "#### 10. Subtract the mean of each row of a random 5x10 matrix (intermediate)\n",
        "`hint: mean(axis=,keepdims=)`"
      ],
      "id": "pzDCcxROxcuW"
    },
    {
      "cell_type": "code",
      "execution_count": null,
      "metadata": {
        "id": "20qUKTS0xcuW"
      },
      "outputs": [],
      "source": [
        "matrix = np.random.random((5, 10))\n",
        "mean_subtracted_matrix = matrix - matrix.mean(axis=1, keepdims=True)\n",
        "print(mean_subtracted_matrix)"
      ],
      "id": "20qUKTS0xcuW"
    }
  ],
  "metadata": {
    "kernelspec": {
      "display_name": "Python 3",
      "language": "python",
      "name": "python3"
    },
    "language_info": {
      "codemirror_mode": {
        "name": "ipython",
        "version": 3
      },
      "file_extension": ".py",
      "mimetype": "text/x-python",
      "name": "python",
      "nbconvert_exporter": "python",
      "pygments_lexer": "ipython3",
      "version": "3.6.9"
    },
    "toc-autonumbering": false,
    "colab": {
      "provenance": [],
      "include_colab_link": true
    }
  },
  "nbformat": 4,
  "nbformat_minor": 5
}