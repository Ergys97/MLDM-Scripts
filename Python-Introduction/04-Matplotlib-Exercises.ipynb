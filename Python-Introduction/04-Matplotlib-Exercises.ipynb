{
  "cells": [
    {
      "cell_type": "markdown",
      "metadata": {
        "id": "mR71zU0UzqCZ"
      },
      "source": [
        "# Matplotlib Practice - Hints - Unibs 2021"
      ]
    },
    {
      "cell_type": "code",
      "execution_count": null,
      "metadata": {
        "id": "zIrz7CKOzqCa"
      },
      "outputs": [],
      "source": [
        ""
      ]
    },
    {
      "cell_type": "markdown",
      "metadata": {
        "id": "V4qQuVkyzqCa"
      },
      "source": [
        "### Import matplotlib.pyplot package under name `plt` and print version\n",
        "`hint: import ... as, plt.__version__ `"
      ]
    },
    {
      "cell_type": "code",
      "execution_count": null,
      "metadata": {
        "id": "i4T9ZomhzqCa"
      },
      "outputs": [],
      "source": []
    },
    {
      "cell_type": "markdown",
      "metadata": {
        "id": "urv6v4uGzqCa"
      },
      "source": [
        "### Activate matplotlib inline\n",
        "`hint: ... inline`"
      ]
    },
    {
      "cell_type": "code",
      "execution_count": null,
      "metadata": {
        "id": "In4KovjAzqCb"
      },
      "outputs": [],
      "source": []
    },
    {
      "cell_type": "markdown",
      "metadata": {
        "id": "Cv-fDOdbzqCb"
      },
      "source": [
        "## Base"
      ]
    },
    {
      "cell_type": "markdown",
      "metadata": {
        "id": "PbSCwZbVzqCb"
      },
      "source": [
        "### Plot a line with formula $y = 2x + 1$\n",
        "`hint: np.arange, plt.figure, plt.plot, plt.title, plt.xlabel, plt.ylabel, plt.grid, plt.legend, plt.show`\n",
        "\n",
        "- Use points in range [1, 20]\n",
        "- Figure size of (10,5)\n",
        "- Set axis labels\n",
        "- Set plot title\n",
        "- Set line color as red\n",
        "- Discontinued line (--) with star (\\*) on point\n",
        "- Plot the legend with the formula in latex version (`r\"$ ... $\"`)\n",
        "- Set a dashed grid"
      ]
    },
    {
      "cell_type": "code",
      "execution_count": null,
      "metadata": {
        "jupyter": {
          "outputs_hidden": false
        },
        "id": "UjRHK0g5zqCb"
      },
      "outputs": [],
      "source": []
    },
    {
      "cell_type": "code",
      "execution_count": null,
      "metadata": {
        "jupyter": {
          "outputs_hidden": false
        },
        "id": "6mFlCxA5zqCb"
      },
      "outputs": [],
      "source": []
    },
    {
      "cell_type": "markdown",
      "metadata": {
        "id": "YaV__vV5zqCb"
      },
      "source": [
        "### Add to the previous plot the line with formula $y = log(x) + 1$ in the same range\n",
        "`hint: np.log, plt.plot`\n",
        "\n",
        "- Set line color as blue\n",
        "- Normal line (-) with square (s) char on point"
      ]
    },
    {
      "cell_type": "code",
      "execution_count": null,
      "metadata": {
        "jupyter": {
          "outputs_hidden": false
        },
        "id": "Ccd9NKxhzqCc"
      },
      "outputs": [],
      "source": []
    },
    {
      "cell_type": "markdown",
      "metadata": {
        "id": "IMkakdZZzqCc"
      },
      "source": [
        "### Add to the previous plot the line with formula $y=x^2 - 1$ in the same range\n",
        "`hint: x**2, plt.plot`\n",
        "\n",
        "- Set line color as green\n",
        "- Normal line (-) with + (plus) char on point"
      ]
    },
    {
      "cell_type": "code",
      "execution_count": null,
      "metadata": {
        "jupyter": {
          "outputs_hidden": false
        },
        "id": "L6vlV1KBzqCc"
      },
      "outputs": [],
      "source": []
    },
    {
      "cell_type": "markdown",
      "metadata": {
        "id": "vKMTSZ7qzqCc"
      },
      "source": [
        "### Replot the previous plot in different subplots in the same line without sharing axes\n",
        "`hint: plt.subplots, axes[].plot, axes[].set_title, axes[].set_xlabel, axes[].set_ylabel, axes[].grid, axes[].legend, fig.tight_layout`"
      ]
    },
    {
      "cell_type": "code",
      "execution_count": null,
      "metadata": {
        "jupyter": {
          "outputs_hidden": false
        },
        "id": "EGaY3jv9zqCc"
      },
      "outputs": [],
      "source": []
    },
    {
      "cell_type": "markdown",
      "metadata": {
        "id": "xrTaSanyzqCc"
      },
      "source": [
        "### Replot the previous plot sharing y between suplots\n",
        "`hint: sharey=True`"
      ]
    },
    {
      "cell_type": "code",
      "execution_count": null,
      "metadata": {
        "jupyter": {
          "outputs_hidden": false
        },
        "id": "jSyEusIqzqCc"
      },
      "outputs": [],
      "source": []
    },
    {
      "cell_type": "markdown",
      "metadata": {
        "id": "O4bNkyC7zqCc"
      },
      "source": [
        "### Replot the previous plot using the for loop, lists and dictionaries\n",
        "`hint: functions = [...], {\"title\": ..., \"y\": ..., \"label\": ..., \"linestyle\": ...}, zip(functions, axes)`"
      ]
    },
    {
      "cell_type": "code",
      "execution_count": null,
      "metadata": {
        "id": "WMHBBiZLzqCd"
      },
      "outputs": [],
      "source": []
    },
    {
      "cell_type": "markdown",
      "metadata": {
        "id": "cWqoKHhCzqCd"
      },
      "source": [
        "### Plot functions $ y_i = i\\cdot x - 5i$ with $i$ in range (0, 10) in the same plot with size (10,5) and a different color for each function"
      ]
    },
    {
      "cell_type": "code",
      "execution_count": null,
      "metadata": {
        "id": "KELiX6dkzqCd"
      },
      "outputs": [],
      "source": []
    },
    {
      "cell_type": "markdown",
      "metadata": {
        "id": "zQctJQVnzqCd"
      },
      "source": [
        "### Plot functions $ y_i = i\\cdot x - 5i$ with $i$ in range (0, 10) in different subplots with shared y and figure size (20,5)"
      ]
    },
    {
      "cell_type": "code",
      "execution_count": null,
      "metadata": {
        "id": "8BFMPXQQzqCd"
      },
      "outputs": [],
      "source": []
    },
    {
      "cell_type": "markdown",
      "metadata": {
        "id": "Uc75ig4ZzqCd"
      },
      "source": [
        "## Intermediate"
      ]
    },
    {
      "cell_type": "markdown",
      "metadata": {
        "id": "co8uxGzWzqCd"
      },
      "source": [
        "### Plot a red scatterplot of $x$ squared\n",
        "`hint: plt.scatter`"
      ]
    },
    {
      "cell_type": "code",
      "execution_count": null,
      "metadata": {
        "id": "z1E1WupLzqCd"
      },
      "outputs": [],
      "source": []
    },
    {
      "cell_type": "markdown",
      "metadata": {
        "id": "hYn8NEsLzqCd"
      },
      "source": [
        "### Plot a blue step plot of $x$ squared with linewidth of $3$\n",
        "`hint: plt.step`"
      ]
    },
    {
      "cell_type": "code",
      "execution_count": null,
      "metadata": {
        "id": "smYWi_-vzqCd"
      },
      "outputs": [],
      "source": []
    },
    {
      "cell_type": "markdown",
      "metadata": {
        "id": "PoyVK4PwzqCd"
      },
      "source": [
        "### Plot an orange barplot plot of $x$ squared with alpha of $0.25$\n",
        "`hint: plt.bar`"
      ]
    },
    {
      "cell_type": "code",
      "execution_count": null,
      "metadata": {
        "id": "xAUWOd8vzqCd"
      },
      "outputs": [],
      "source": []
    },
    {
      "cell_type": "markdown",
      "metadata": {
        "id": "nHZ8EIClzqCd"
      },
      "source": [
        "### Plot the area between $x$ squared and the $x \\cdot log(x)$ function in green and alpha $0.5$\n",
        "`hint: plt.fill_between`"
      ]
    },
    {
      "cell_type": "code",
      "execution_count": null,
      "metadata": {
        "id": "WM8WcPNazqCe"
      },
      "outputs": [],
      "source": []
    },
    {
      "cell_type": "markdown",
      "metadata": {
        "id": "7LRcMdf8zqCe"
      },
      "source": [
        "### Replot previous plots in square grid (2,2)\n",
        "`hint: axes[][]`"
      ]
    },
    {
      "cell_type": "code",
      "execution_count": null,
      "metadata": {
        "jupyter": {
          "outputs_hidden": false
        },
        "id": "VzzKlczqzqCe"
      },
      "outputs": [],
      "source": []
    },
    {
      "cell_type": "markdown",
      "metadata": {
        "id": "fbcC5fI4zqCe"
      },
      "source": [
        "### Plot purple histogram of 50 bins and pink cumulative instogram of 100K random samples in subplots\n",
        "`hint: np.random.randn, axes[].hist(), cumulative=True, bins=50`"
      ]
    },
    {
      "cell_type": "code",
      "execution_count": null,
      "metadata": {
        "jupyter": {
          "outputs_hidden": false
        },
        "id": "78rq9TGczqCe"
      },
      "outputs": [],
      "source": []
    }
  ],
  "metadata": {
    "anaconda-cloud": {
      "environment": null
    },
    "kernelspec": {
      "display_name": "Python 3",
      "language": "python",
      "name": "python3"
    },
    "language_info": {
      "codemirror_mode": {
        "name": "ipython",
        "version": 3
      },
      "file_extension": ".py",
      "mimetype": "text/x-python",
      "name": "python",
      "nbconvert_exporter": "python",
      "pygments_lexer": "ipython3",
      "version": "3.7.10"
    },
    "toc-autonumbering": true,
    "colab": {
      "provenance": []
    }
  },
  "nbformat": 4,
  "nbformat_minor": 0
}